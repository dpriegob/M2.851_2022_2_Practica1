{
 "cells": [
  {
   "cell_type": "code",
   "execution_count": null,
   "id": "5bdaf8db",
   "metadata": {},
   "outputs": [],
   "source": [
    "from bs4 import BeautifulSoup\n",
    "from selenium import webdriver\n",
    "from selenium.webdriver.firefox.options import Options\n",
    "from selenium.webdriver.support.ui import WebDriverWait\n",
    "from selenium.webdriver.common.by import By\n",
    "from selenium.webdriver.support import expected_conditions as EC\n",
    "from selenium.webdriver.common.action_chains import ActionChains\n",
    "\n",
    "options = Options()\n",
    "options.binary_location = r'C:\\Program Files\\Mozilla Firefox\\firefox.exe'\n",
    "driver = webdriver.Firefox(executable_path=r'C:\\Users\\dpriego\\Anaconda3\\geckodriver.exe', options=options)\n",
    "\n",
    "url_income_statement = 'https://finance.yahoo.com'\n",
    "driver.get(url_income_statement)\n",
    "driver.maximize_window()\n",
    "\n",
    "#Click boton aceptar coockies\n",
    "element = driver.find_element_by_xpath(\"/html/body/div/div/div/div/form/div[2]/div[2]/button[1]\")\n",
    "driver.execute_script(\"arguments[0].click();\", element)\n",
    "\n",
    "#Click boton Industries\n",
    "driver.implicitly_wait(10)\n",
    "driver.find_element_by_xpath(\"//a[@title='Industries']\").click()\n",
    "\n",
    "#Click boton acciones de empresas tecnológicas\n",
    "driver.implicitly_wait(10)\n",
    "driver.find_element_by_xpath(\"//a[@title='Technology']\").click()\n",
    "\n",
    "#Obtenemos el listado de los id's de las distintas compañías\n",
    "driver.implicitly_wait(10)\n",
    "html_tech_sheet = BeautifulSoup(driver.page_source, 'html.parser')\n",
    "element = driver.find_element_by_xpath(\"/html/body/div[1]/div/div/div[1]/div/div[2]/div/div/div[6]/div/div/section/div/div[2]/div[2]/button[3]\")\n",
    "rows = []\n",
    "header = []\n",
    "salir = False\n",
    "table = html_tech_sheet.find('table')\n",
    "while not salir:  \n",
    "    for i, row in enumerate(table.find_all('tr')):\n",
    "        if i == 0:\n",
    "            header = [el.text.strip() for el in row.find_all('th')]\n",
    "        else:\n",
    "            rows.append([el.text.strip() for el in row.find_all('td')])\n",
    "    element = driver.find_element_by_xpath(\"/html/body/div[1]/div/div/div[1]/div/div[2]/div/div/div[6]/div/div/section/div/div[2]/div[2]/button[3]\")    \n",
    "    if not element.is_enabled():\n",
    "        salir = True\n",
    "    driver.find_element_by_xpath(\"/html/body/div[1]/div/div/div[1]/div/div[2]/div/div/div[6]/div/div/section/div/div[2]/div[2]/button[3]\").click()\n",
    "    html_tech_sheet = BeautifulSoup(driver.page_source, 'html.parser')\n",
    "    table = html_tech_sheet.find('table')"
   ]
  }
 ],
 "metadata": {
  "kernelspec": {
   "display_name": "Python 3 (ipykernel)",
   "language": "python",
   "name": "python3"
  },
  "language_info": {
   "codemirror_mode": {
    "name": "ipython",
    "version": 3
   },
   "file_extension": ".py",
   "mimetype": "text/x-python",
   "name": "python",
   "nbconvert_exporter": "python",
   "pygments_lexer": "ipython3",
   "version": "3.9.13"
  }
 },
 "nbformat": 4,
 "nbformat_minor": 5
}
