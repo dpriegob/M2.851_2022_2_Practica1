{
 "cells": [
  {
   "cell_type": "code",
   "execution_count": null,
   "id": "9726b3d4",
   "metadata": {},
   "outputs": [],
   "source": [
    "from bs4 import BeautifulSoup\n",
    "from selenium import webdriver\n",
    "from selenium.webdriver.support.ui import WebDriverWait\n",
    "from selenium.webdriver.common.by import By\n",
    "from selenium.webdriver.support import expected_conditions as EC\n",
    "from selenium.webdriver.common.action_chains import ActionChains\n",
    "import re\n",
    "import pandas as pd"
   ]
  },
  {
   "cell_type": "code",
   "execution_count": null,
   "id": "1600cc72",
   "metadata": {},
   "outputs": [],
   "source": [
    "def create_df(l_col, l_per, l_val):\n",
    "    df = pd.DataFrame([], columns=l_col)\n",
    "    pointer=0\n",
    "    \n",
    "    for i in range(len(l_per)):\n",
    "        list = [l_per[i]]\n",
    "        pointer=i\n",
    "        for j in range(len(l_col)-1):\n",
    "            list.append(l_val[pointer].text)\n",
    "            pointer = pointer + len(l_per)\n",
    "        df.loc[len(df)] = list\n",
    "    return df\n",
    "\n",
    "def get_columns(yahoo_html_table):\n",
    "    name_format = \"^[A-Z]\"\n",
    "    list_col = []\n",
    "    start_scraping = False\n",
    "    \n",
    "    for index, val in enumerate(yahoo_html_table):\n",
    "        if (val.text == \"Breakdown\"): start_scraping = True\n",
    "        if (val.text == \"People Also Watch\"): start_scraping = False\n",
    "        if (start_scraping == True): \n",
    "            if (re.match(name_format, val.text)):\n",
    "                list_col.append(val.text)\n",
    "    return list_col\n",
    "\n",
    "def get_periods(yahoo_html_table):\n",
    "    date_format = \"[0-9][0-9]/[0-9][0-9]/[0-9][0-9][0-9][0-9]\"\n",
    "    list_per = []\n",
    "    start_scraping = False\n",
    "    \n",
    "    for index, val in enumerate(yahoo_html_table):\n",
    "        if (val.text == \"Breakdown\"): start_scraping = True\n",
    "        if (val.text == \"People Also Watch\"): start_scraping = False\n",
    "        if (start_scraping == True): \n",
    "            if (val.text == \"ttm\" or re.match(date_format, val.text)): \n",
    "                list_per.append(val.text)\n",
    "    return list_per"
   ]
  },
  {
   "cell_type": "code",
   "execution_count": null,
   "id": "4954955f",
   "metadata": {},
   "outputs": [],
   "source": [
    "driver = webdriver.Firefox()\n",
    "wait_sec = 10\n",
    "ticker = 'NVST'\n",
    "url_income_statement = 'https://finance.yahoo.com/quote/'+ticker+'/financials?p='+ticker\n",
    "\n",
    "driver.get(url_income_statement)\n",
    "\n",
    "#Click boton aceptar coockies\n",
    "WebDriverWait(driver, wait_sec).until(EC.element_to_be_clickable((By.XPATH,\n",
    "\"/html/body/div/div/div/div/form/div[2]/div[2]/button[1]\"))).click()\n",
    "\n",
    "#Click boton registrarse luego\n",
    "WebDriverWait(driver, wait_sec).until(EC.element_to_be_clickable((By.XPATH,\n",
    "\"/html/body/div[1]/div/div/div[1]/div/div[4]/div/div/div[1]/div/div/div/div/div/section/button[2]\"))).click()\n",
    "\n",
    "#Click boton Expandir datos\n",
    "WebDriverWait(driver, wait_sec).until(EC.element_to_be_clickable((By.XPATH,\n",
    "\"/html/body/div[1]/div/div/div[1]/div/div[3]/div[1]/div/div[2]/div/div/section/div[2]/button/div/span\"))).click()\n",
    "\n",
    "html_income_statement = BeautifulSoup(driver.page_source, 'html.parser')\n",
    "\n",
    "#Navegamos a balance-sheet\n",
    "WebDriverWait(driver, wait_sec).until(EC.element_to_be_clickable((By.CSS_SELECTOR, \n",
    "\"a[href*='balance-sheet']\"))).click()\n",
    "\n",
    "#Click boton Expandir datos\n",
    "WebDriverWait(driver, wait_sec).until(EC.element_to_be_clickable((By.XPATH,\n",
    "\"/html/body/div[1]/div/div/div[1]/div/div[3]/div[1]/div/div[2]/section/div[2]/button/div/span\"))).click()\n",
    "\n",
    "html_balance_sheet = BeautifulSoup(driver.page_source, 'html.parser')\n",
    "\n",
    "#Navegamos a cash-flow\n",
    "WebDriverWait(driver, wait_sec).until(EC.element_to_be_clickable((By.CSS_SELECTOR, \n",
    "\"a[href*='cash-flow']\"))).click()\n",
    "\n",
    "#Click boton Expandir datos\n",
    "WebDriverWait(driver, wait_sec).until(EC.element_to_be_clickable((By.XPATH,\n",
    "\"/html/body/div[1]/div/div/div[1]/div/div[3]/div[1]/div/div[2]/section/div[2]/button/div/span\"))).click()\n",
    "\n",
    "html_cash_flow = BeautifulSoup(driver.page_source, 'html.parser')\n",
    "\n",
    "#Navegamos a profile\n",
    "WebDriverWait(driver, wait_sec).until(EC.element_to_be_clickable((By.CSS_SELECTOR, \n",
    "\"a[href*='profile']\"))).click()\n",
    "\n",
    "#driver.quit()"
   ]
  },
  {
   "cell_type": "code",
   "execution_count": null,
   "id": "59665933",
   "metadata": {},
   "outputs": [],
   "source": [
    "#Datos income_statement\n",
    "income_statement_val = html_income_statement.findAll('div', attrs={\"data-test\":\"fin-col\"})\n",
    "income_statement_col = html_income_statement.findAll('span')\n",
    "df=create_df(get_columns(income_statement_col), get_periods(income_statement_col), income_statement_val)     \n",
    "df"
   ]
  },
  {
   "cell_type": "code",
   "execution_count": null,
   "id": "13694a9b",
   "metadata": {},
   "outputs": [],
   "source": [
    "#Datos Balance sheet\n",
    "balance_sheet_val = html_balance_sheet.findAll('div', attrs={\"data-test\":\"fin-col\"})\n",
    "balance_sheet_col = html_balance_sheet.findAll('span')\n",
    "df=create_df(get_columns(balance_sheet_col), get_periods(balance_sheet_col), balance_sheet_val)     \n",
    "df"
   ]
  },
  {
   "cell_type": "code",
   "execution_count": null,
   "id": "81e653f6",
   "metadata": {},
   "outputs": [],
   "source": [
    "#Datos Cash flow\n",
    "cash_flow_val = html_cash_flow.findAll('div', attrs={\"data-test\":\"fin-col\"})\n",
    "cash_flow_col = html_cash_flow.findAll('span')\n",
    "df=create_df(get_columns(cash_flow_col), get_periods(cash_flow_col), cash_flow_val)     \n",
    "df"
   ]
  },
  {
   "cell_type": "code",
   "execution_count": null,
   "id": "d93f0eaf",
   "metadata": {},
   "outputs": [],
   "source": [
    "#Datos Cash flow\n",
    "cash_flow = html_cash_flow.findAll('span', attrs={\"data-test\":\"\"})\n",
    "start_scraping = False\n",
    "for index, val in enumerate(cash_flow):\n",
    "    print(val.text)  \n",
    "    if (val.text == \"Breakdown\"): start_scraping = True\n",
    "    if (val.text == \"People Also Watch\"): start_scraping = False\n",
    "    if (start_scraping == True): print(val.text)   "
   ]
  },
  {
   "cell_type": "code",
   "execution_count": null,
   "id": "4291c65a",
   "metadata": {},
   "outputs": [],
   "source": []
  },
  {
   "cell_type": "code",
   "execution_count": null,
   "id": "91706856",
   "metadata": {},
   "outputs": [],
   "source": []
  },
  {
   "cell_type": "code",
   "execution_count": null,
   "id": "9ff5f3d8",
   "metadata": {},
   "outputs": [],
   "source": [
    "\n"
   ]
  },
  {
   "cell_type": "code",
   "execution_count": null,
   "id": "72f7e1bb",
   "metadata": {},
   "outputs": [],
   "source": []
  }
 ],
 "metadata": {
  "kernelspec": {
   "display_name": "Python 3 (ipykernel)",
   "language": "python",
   "name": "python3"
  },
  "language_info": {
   "codemirror_mode": {
    "name": "ipython",
    "version": 3
   },
   "file_extension": ".py",
   "mimetype": "text/x-python",
   "name": "python",
   "nbconvert_exporter": "python",
   "pygments_lexer": "ipython3",
   "version": "3.9.7"
  }
 },
 "nbformat": 4,
 "nbformat_minor": 5
}
