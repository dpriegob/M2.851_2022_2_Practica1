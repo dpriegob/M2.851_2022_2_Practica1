{
 "cells": [
  {
   "cell_type": "code",
   "execution_count": null,
   "id": "9726b3d4",
   "metadata": {},
   "outputs": [],
   "source": [
    "from bs4 import BeautifulSoup\n",
    "from selenium import webdriver\n",
    "from selenium.webdriver.support.ui import WebDriverWait\n",
    "from selenium.webdriver.common.by import By\n",
    "from selenium.webdriver.support import expected_conditions as EC\n",
    "from selenium.webdriver.common.action_chains import ActionChains"
   ]
  },
  {
   "cell_type": "code",
   "execution_count": null,
   "id": "4954955f",
   "metadata": {},
   "outputs": [],
   "source": [
    "driver = webdriver.Firefox()\n",
    "\n",
    "ticker = 'VOW3.DE'\n",
    "url_income_statement = 'https://finance.yahoo.com/quote/'+ticker+'/financials?p='+ticker\n",
    "\n",
    "driver.get(url_income_statement)\n",
    "\n",
    "#Click boton aceptar coockies\n",
    "WebDriverWait(driver, 20).until(EC.element_to_be_clickable((By.XPATH,\n",
    "\"/html/body/div/div/div/div/form/div[2]/div[2]/button[1]\"))).click()\n",
    "\n",
    "#Click boton registrarse luego\n",
    "WebDriverWait(driver, 20).until(EC.element_to_be_clickable((By.XPATH,\n",
    "\"/html/body/div[1]/div/div/div[1]/div/div[4]/div/div/div[1]/div/div/div/div/div/section/button[2]\"))).click()\n",
    "\n",
    "#Click boton Expandir datos\n",
    "WebDriverWait(driver, 20).until(EC.element_to_be_clickable((By.XPATH,\n",
    "\"/html/body/div[1]/div/div/div[1]/div/div[3]/div[1]/div/div[2]/div/div/section/div[2]/button/div/span\"))).click()\n",
    "\n",
    "html_income_statement = BeautifulSoup(driver.page_source, 'html.parser')\n",
    "\n",
    "#Navegamos a balance-sheet\n",
    "WebDriverWait(driver, 20).until(EC.element_to_be_clickable((By.CSS_SELECTOR, \n",
    "\"a[href*='balance-sheet']\"))).click()\n",
    "\n",
    "#Click boton Expandir datos\n",
    "WebDriverWait(driver, 20).until(EC.element_to_be_clickable((By.XPATH,\n",
    "\"/html/body/div[1]/div/div/div[1]/div/div[3]/div[1]/div/div[2]/section/div[2]/button/div/span\"))).click()\n",
    "\n",
    "html_balance_sheet = BeautifulSoup(driver.page_source, 'html.parser')\n",
    "\n",
    "#Navegamos a cash-flow\n",
    "WebDriverWait(driver, 20).until(EC.element_to_be_clickable((By.CSS_SELECTOR, \n",
    "\"a[href*='cash-flow']\"))).click()\n",
    "\n",
    "#Click boton Expandir datos\n",
    "WebDriverWait(driver, 20).until(EC.element_to_be_clickable((By.XPATH,\n",
    "\"/html/body/div[1]/div/div/div[1]/div/div[3]/div[1]/div/div[2]/section/div[2]/button\"))).click()\n",
    "\n",
    "html_cash_flow = BeautifulSoup(driver.page_source, 'html.parser')\n",
    "\n",
    "#driver.quit()"
   ]
  },
  {
   "cell_type": "code",
   "execution_count": null,
   "id": "59665933",
   "metadata": {},
   "outputs": [],
   "source": [
    "#Datos income_statement\n",
    "income_statement = html_income_statement.findAll('span', attrs={\"data-test\":\"\"})\n",
    "for index, val in enumerate(income_statement):\n",
    "    if index >= 54 and index <= 311:\n",
    "        print(index,\" - \",val.text)   "
   ]
  },
  {
   "cell_type": "code",
   "execution_count": null,
   "id": "13694a9b",
   "metadata": {},
   "outputs": [],
   "source": [
    "#Datos Balance sheet\n",
    "balance_sheet = html_balance_sheet.findAll('span', attrs={\"data-test\":\"\"})\n",
    "for index, val in enumerate(balance_sheet):\n",
    "    print(index,\" - \",val.text)   "
   ]
  },
  {
   "cell_type": "code",
   "execution_count": null,
   "id": "d93f0eaf",
   "metadata": {},
   "outputs": [],
   "source": [
    "#Datos Cash flow\n",
    "cash_flow = html_cash_flow.findAll('span', attrs={\"data-test\":\"\"})\n",
    "for index, val in enumerate(cash_flow):\n",
    "    print(index,\" - \",val.text)   "
   ]
  },
  {
   "cell_type": "code",
   "execution_count": null,
   "id": "4291c65a",
   "metadata": {},
   "outputs": [],
   "source": [
    "concepts = html_income_statement.findAll('div', attrs={\"class\":\"Va(m)\"})\n",
    "for i in concepts:\n",
    "    print(i.text)"
   ]
  },
  {
   "cell_type": "code",
   "execution_count": null,
   "id": "91706856",
   "metadata": {},
   "outputs": [],
   "source": [
    "amounts = html_income_statement.findAll('div', attrs={\"data-test\":\"fin-col\"})\n",
    "for i in amounts:\n",
    "    print(i.text)"
   ]
  },
  {
   "cell_type": "code",
   "execution_count": null,
   "id": "9ff5f3d8",
   "metadata": {},
   "outputs": [],
   "source": [
    "print(html_cash_flow)\n"
   ]
  },
  {
   "cell_type": "code",
   "execution_count": null,
   "id": "72f7e1bb",
   "metadata": {},
   "outputs": [],
   "source": []
  }
 ],
 "metadata": {
  "kernelspec": {
   "display_name": "Python 3 (ipykernel)",
   "language": "python",
   "name": "python3"
  },
  "language_info": {
   "codemirror_mode": {
    "name": "ipython",
    "version": 3
   },
   "file_extension": ".py",
   "mimetype": "text/x-python",
   "name": "python",
   "nbconvert_exporter": "python",
   "pygments_lexer": "ipython3",
   "version": "3.9.7"
  }
 },
 "nbformat": 4,
 "nbformat_minor": 5
}
