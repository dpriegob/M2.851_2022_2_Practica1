{
 "cells": [
  {
   "cell_type": "code",
   "execution_count": 1,
   "id": "9726b3d4",
   "metadata": {},
   "outputs": [],
   "source": [
    "from bs4 import BeautifulSoup\n",
    "from selenium import webdriver\n",
    "from selenium.webdriver.support.ui import WebDriverWait\n",
    "from selenium.webdriver.common.by import By\n",
    "from selenium.webdriver.support import expected_conditions as EC\n",
    "from selenium.webdriver.common.action_chains import ActionChains"
   ]
  },
  {
   "cell_type": "code",
   "execution_count": 5,
   "id": "4954955f",
   "metadata": {},
   "outputs": [],
   "source": [
    "driver = webdriver.Firefox()\n",
    "wait_sec = 20\n",
    "\n",
    "ticker = 'VOW3.DE'\n",
    "url_income_statement = 'https://finance.yahoo.com/quote/'+ticker+'/financials?p='+ticker\n",
    "\n",
    "driver.get(url_income_statement)\n",
    "\n",
    "#Click boton aceptar coockies\n",
    "WebDriverWait(driver, wait_sec).until(EC.element_to_be_clickable((By.XPATH,\n",
    "\"/html/body/div/div/div/div/form/div[2]/div[2]/button[1]\"))).click()\n",
    "\n",
    "#Click boton registrarse luego\n",
    "WebDriverWait(driver, wait_sec).until(EC.element_to_be_clickable((By.XPATH,\n",
    "\"/html/body/div[1]/div/div/div[1]/div/div[4]/div/div/div[1]/div/div/div/div/div/section/button[2]\"))).click()\n",
    "\n",
    "#Click boton Expandir datos\n",
    "WebDriverWait(driver, wait_sec).until(EC.element_to_be_clickable((By.XPATH,\n",
    "\"/html/body/div[1]/div/div/div[1]/div/div[3]/div[1]/div/div[2]/div/div/section/div[2]/button/div/span\"))).click()\n",
    "\n",
    "html_income_statement = BeautifulSoup(driver.page_source, 'html.parser')\n",
    "\n",
    "#Navegamos a balance-sheet\n",
    "WebDriverWait(driver, wait_sec).until(EC.element_to_be_clickable((By.CSS_SELECTOR, \n",
    "\"a[href*='balance-sheet']\"))).click()\n",
    "\n",
    "#Click boton Expandir datos\n",
    "WebDriverWait(driver, wait_sec).until(EC.element_to_be_clickable((By.XPATH,\n",
    "\"/html/body/div[1]/div/div/div[1]/div/div[3]/div[1]/div/div[2]/section/div[2]/button/div/span\"))).click()\n",
    "\n",
    "html_balance_sheet = BeautifulSoup(driver.page_source, 'html.parser')\n",
    "\n",
    "#Navegamos a cash-flow\n",
    "WebDriverWait(driver, wait_sec).until(EC.element_to_be_clickable((By.CSS_SELECTOR, \n",
    "\"a[href*='cash-flow']\"))).click()\n",
    "\n",
    "#Click boton Expandir datos\n",
    "WebDriverWait(driver, wait_sec).until(EC.element_to_be_clickable((By.XPATH,\n",
    "\"/html/body/div[1]/div/div/div[1]/div/div[3]/div[1]/div/div[2]/section/div[2]/button/div/span\"))).click()\n",
    "\n",
    "WebDriverWait(driver, 5)\n",
    "html_cash_flow = BeautifulSoup(driver.page_source, 'html.parser')\n",
    "\n",
    "driver.quit()"
   ]
  },
  {
   "cell_type": "code",
   "execution_count": null,
   "id": "59665933",
   "metadata": {},
   "outputs": [],
   "source": [
    "#Datos income_statement\n",
    "income_statement = html_income_statement.findAll('span', attrs={\"data-test\":\"\"})\n",
    "start_scraping = False\n",
    "for index, val in enumerate(income_statement):\n",
    "    if (val.text == \"Breakdown\"): start_scraping = True\n",
    "    if (val.text == \"People Also Watch\"): start_scraping = False\n",
    "    if (start_scraping == True): print(val.text)   \n"
   ]
  },
  {
   "cell_type": "code",
   "execution_count": null,
   "id": "13694a9b",
   "metadata": {},
   "outputs": [],
   "source": [
    "#Datos Balance sheet\n",
    "balance_sheet = html_balance_sheet.findAll('span', attrs={\"data-test\":\"\"})\n",
    "start_scraping = False\n",
    "for index, val in enumerate(balance_sheet):\n",
    "    if (val.text == \"Breakdown\"): start_scraping = True\n",
    "    if (val.text == \"People Also Watch\"): start_scraping = False\n",
    "    if (start_scraping == True): print(val.text)   "
   ]
  },
  {
   "cell_type": "code",
   "execution_count": 3,
   "id": "d93f0eaf",
   "metadata": {},
   "outputs": [
    {
     "name": "stdout",
     "output_type": "stream",
     "text": [
      "Breakdown\n",
      "ttm\n",
      "12/30/2022\n",
      "12/30/2021\n",
      "12/30/2020\n",
      "12/30/2019\n",
      "Operating Cash Flow\n",
      "36,615,000\n",
      "28,496,000\n",
      "38,633,000\n",
      "24,901,000\n",
      "17,983,000\n",
      "Investing Cash Flow\n",
      "-28,102,000\n",
      "-41,822,000\n",
      "-26,128,000\n",
      "-22,690,000\n",
      "-21,146,000\n",
      "Financing Cash Flow\n",
      "-12,614,000\n",
      "4,225,000\n",
      "-7,754,000\n",
      "7,637,000\n",
      "-865,000\n",
      "Other Cash Adjustment Inside Change in Cash\n",
      "-1,000\n",
      "1,000\n",
      "-1,000\n",
      "0\n",
      "1,000\n",
      "End Cash Position\n",
      "31,876,000\n",
      "29,738,000\n",
      "39,123,000\n",
      "33,432,000\n",
      "24,329,000\n",
      "Capital Expenditure\n",
      "-21,473,000\n",
      "-22,671,000\n",
      "-18,498,000\n",
      "-17,746,000\n",
      "-19,401,000\n",
      "Issuance of Debt\n",
      "23,876,000\n",
      "23,876,000\n",
      "32,659,000\n",
      "25,181,000\n",
      "25,916,000\n",
      "Repayment of Debt\n",
      "-25,638,000\n",
      "-25,638,000\n",
      "-30,557,000\n",
      "-19,815,000\n",
      "-19,784,000\n",
      "Free Cash Flow\n",
      "15,142,000\n",
      "5,825,000\n",
      "20,135,000\n",
      "7,155,000\n",
      "-1,418,000\n"
     ]
    }
   ],
   "source": [
    "#Datos Cash flow\n",
    "cash_flow = html_cash_flow.findAll('span', attrs={\"data-test\":\"\"})\n",
    "start_scraping = False\n",
    "for index, val in enumerate(cash_flow):\n",
    "    if (val.text == \"Breakdown\"): start_scraping = True\n",
    "    if (val.text == \"People Also Watch\"): start_scraping = False\n",
    "    if (start_scraping == True): print(val.text)   "
   ]
  },
  {
   "cell_type": "code",
   "execution_count": null,
   "id": "4291c65a",
   "metadata": {},
   "outputs": [],
   "source": []
  },
  {
   "cell_type": "code",
   "execution_count": null,
   "id": "91706856",
   "metadata": {},
   "outputs": [],
   "source": []
  },
  {
   "cell_type": "code",
   "execution_count": null,
   "id": "9ff5f3d8",
   "metadata": {},
   "outputs": [],
   "source": [
    "\n"
   ]
  },
  {
   "cell_type": "code",
   "execution_count": null,
   "id": "72f7e1bb",
   "metadata": {},
   "outputs": [],
   "source": []
  }
 ],
 "metadata": {
  "kernelspec": {
   "display_name": "Python 3 (ipykernel)",
   "language": "python",
   "name": "python3"
  },
  "language_info": {
   "codemirror_mode": {
    "name": "ipython",
    "version": 3
   },
   "file_extension": ".py",
   "mimetype": "text/x-python",
   "name": "python",
   "nbconvert_exporter": "python",
   "pygments_lexer": "ipython3",
   "version": "3.9.7"
  }
 },
 "nbformat": 4,
 "nbformat_minor": 5
}
